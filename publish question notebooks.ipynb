{
 "cells": [
  {
   "cell_type": "code",
   "execution_count": 31,
   "metadata": {
    "collapsed": false
   },
   "outputs": [],
   "source": [
    "import glob\n",
    "import json\n",
    "import tomd\n",
    "from bs4 import BeautifulSoup\n",
    "\n",
    "outfile = open(\"/Users/buck/repos/bshlgrs.github.io/idk.md\", 'w')\n",
    "\n",
    "outfile.write(\"\"\"---\n",
    "layout: post\n",
    "title:  \"Things I do and don't know\"\n",
    "date:   \"\"\n",
    "---\n",
    "\n",
    "Here are some non-exhaustive notes on the things I do and don't understand across a variety of topics.\n",
    "I read about [Feynman](http://calnewport.com/blog/2015/11/25/the-feynman-notebook-method/) doing something\n",
    "similar; I've found that keeping these notes has been helpful for me so far.\n",
    "\n",
    "If you know about something that I list here and you want to tell me about it, I'd love to hear your\n",
    "explanation!\n",
    "\n",
    "---\n",
    "\n",
    "\"\"\")\n",
    "\n",
    "for qfilename in glob.glob(\"/Users/buck/Dropbox (Personal)/quiver-notebooks/Questions.qvnotebook/*.qvnote\"):\n",
    "    content = json.loads(open(qfilename+\"/content.json\").read())\n",
    "    meta = json.loads(open(qfilename+\"/meta.json\").read())\n",
    "#     print(content)\n",
    "#     print(meta)\n",
    "    html = content['cells'][0]['data']\n",
    "\n",
    "    \n",
    "    if 'public' in meta['tags']:\n",
    "        outfile.write(\"## \" + meta['title'] + \"\\n\")\n",
    "        outfile.write(html + \"\\n\")\n",
    "\n",
    "\n"
   ]
  },
  {
   "cell_type": "code",
   "execution_count": null,
   "metadata": {
    "collapsed": true
   },
   "outputs": [],
   "source": []
  }
 ],
 "metadata": {
  "kernelspec": {
   "display_name": "Python 3",
   "language": "python",
   "name": "python3"
  },
  "language_info": {
   "codemirror_mode": {
    "name": "ipython",
    "version": 3
   },
   "file_extension": ".py",
   "mimetype": "text/x-python",
   "name": "python",
   "nbconvert_exporter": "python",
   "pygments_lexer": "ipython3",
   "version": "3.6.3"
  }
 },
 "nbformat": 4,
 "nbformat_minor": 2
}
